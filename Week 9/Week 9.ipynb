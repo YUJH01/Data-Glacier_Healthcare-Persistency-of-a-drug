{
 "cells": [
  {
   "cell_type": "code",
   "execution_count": 1,
   "metadata": {
    "collapsed": true
   },
   "outputs": [],
   "source": [
    "import numpy as np\n",
    "import pandas as pd"
   ]
  },
  {
   "cell_type": "markdown",
   "source": [
    "##### NA values:"
   ],
   "metadata": {
    "collapsed": false
   }
  },
  {
   "cell_type": "markdown",
   "source": [
    "First we fill Other/Unknown values with NaN."
   ],
   "metadata": {
    "collapsed": false
   }
  },
  {
   "cell_type": "code",
   "execution_count": 2,
   "outputs": [
    {
     "data": {
      "text/plain": "      Persistency_Flag  Gender       Race     Ethnicity   Region Age_Bucket  \\\nPtid                                                                          \nP1          Persistent    Male  Caucasian  Not Hispanic     West        >75   \nP2      Non-Persistent    Male      Asian  Not Hispanic     West      55-65   \nP3      Non-Persistent  Female        NaN      Hispanic  Midwest      65-75   \nP4      Non-Persistent  Female  Caucasian  Not Hispanic  Midwest        >75   \nP5      Non-Persistent  Female  Caucasian  Not Hispanic  Midwest        >75   \n...                ...     ...        ...           ...      ...        ...   \nP3420       Persistent  Female  Caucasian  Not Hispanic    South        >75   \nP3421       Persistent  Female  Caucasian  Not Hispanic    South        >75   \nP3422       Persistent  Female  Caucasian  Not Hispanic    South        >75   \nP3423   Non-Persistent  Female  Caucasian  Not Hispanic    South      55-65   \nP3424   Non-Persistent  Female  Caucasian  Not Hispanic    South      65-75   \n\n             Ntm_Speciality Ntm_Specialist_Flag Ntm_Speciality_Bucket  \\\nPtid                                                                    \nP1     GENERAL PRACTITIONER              Others                   NaN   \nP2     GENERAL PRACTITIONER              Others                   NaN   \nP3     GENERAL PRACTITIONER              Others                   NaN   \nP4     GENERAL PRACTITIONER              Others                   NaN   \nP5     GENERAL PRACTITIONER              Others                   NaN   \n...                     ...                 ...                   ...   \nP3420  GENERAL PRACTITIONER              Others                   NaN   \nP3421                   NaN              Others                   NaN   \nP3422         ENDOCRINOLOGY          Specialist          Endo/Onc/Uro   \nP3423                   NaN              Others                   NaN   \nP3424                   NaN              Others                   NaN   \n\n      Gluco_Record_Prior_Ntm  ... Risk_Family_History_Of_Osteoporosis  \\\nPtid                          ...                                       \nP1                         N  ...                                   N   \nP2                         N  ...                                   N   \nP3                         N  ...                                   N   \nP4                         N  ...                                   N   \nP5                         Y  ...                                   N   \n...                      ...  ...                                 ...   \nP3420                      N  ...                                   N   \nP3421                      N  ...                                   N   \nP3422                      N  ...                                   N   \nP3423                      N  ...                                   N   \nP3424                      Y  ...                                   N   \n\n       Risk_Low_Calcium_Intake Risk_Vitamin_D_Insufficiency  \\\nPtid                                                          \nP1                           N                            N   \nP2                           N                            N   \nP3                           Y                            N   \nP4                           N                            N   \nP5                           N                            N   \n...                        ...                          ...   \nP3420                        N                            Y   \nP3421                        N                            N   \nP3422                        N                            Y   \nP3423                        N                            N   \nP3424                        N                            Y   \n\n      Risk_Poor_Health_Frailty Risk_Excessive_Thinness  \\\nPtid                                                     \nP1                           N                       N   \nP2                           N                       N   \nP3                           N                       N   \nP4                           N                       N   \nP5                           N                       N   \n...                        ...                     ...   \nP3420                        N                       N   \nP3421                        N                       N   \nP3422                        N                       N   \nP3423                        N                       N   \nP3424                        N                       N   \n\n      Risk_Hysterectomy_Oophorectomy Risk_Estrogen_Deficiency  \\\nPtid                                                            \nP1                                 N                        N   \nP2                                 N                        N   \nP3                                 N                        N   \nP4                                 N                        N   \nP5                                 N                        N   \n...                              ...                      ...   \nP3420                              N                        N   \nP3421                              N                        N   \nP3422                              N                        N   \nP3423                              N                        N   \nP3424                              N                        N   \n\n      Risk_Immobilization Risk_Recurring_Falls Count_Of_Risks  \nPtid                                                           \nP1                      N                    N              0  \nP2                      N                    N              0  \nP3                      N                    N              2  \nP4                      N                    N              1  \nP5                      N                    N              1  \n...                   ...                  ...            ...  \nP3420                   N                    N              1  \nP3421                   N                    N              0  \nP3422                   N                    N              1  \nP3423                   N                    N              0  \nP3424                   N                    N              1  \n\n[3424 rows x 68 columns]",
      "text/html": "<div>\n<style scoped>\n    .dataframe tbody tr th:only-of-type {\n        vertical-align: middle;\n    }\n\n    .dataframe tbody tr th {\n        vertical-align: top;\n    }\n\n    .dataframe thead th {\n        text-align: right;\n    }\n</style>\n<table border=\"1\" class=\"dataframe\">\n  <thead>\n    <tr style=\"text-align: right;\">\n      <th></th>\n      <th>Persistency_Flag</th>\n      <th>Gender</th>\n      <th>Race</th>\n      <th>Ethnicity</th>\n      <th>Region</th>\n      <th>Age_Bucket</th>\n      <th>Ntm_Speciality</th>\n      <th>Ntm_Specialist_Flag</th>\n      <th>Ntm_Speciality_Bucket</th>\n      <th>Gluco_Record_Prior_Ntm</th>\n      <th>...</th>\n      <th>Risk_Family_History_Of_Osteoporosis</th>\n      <th>Risk_Low_Calcium_Intake</th>\n      <th>Risk_Vitamin_D_Insufficiency</th>\n      <th>Risk_Poor_Health_Frailty</th>\n      <th>Risk_Excessive_Thinness</th>\n      <th>Risk_Hysterectomy_Oophorectomy</th>\n      <th>Risk_Estrogen_Deficiency</th>\n      <th>Risk_Immobilization</th>\n      <th>Risk_Recurring_Falls</th>\n      <th>Count_Of_Risks</th>\n    </tr>\n    <tr>\n      <th>Ptid</th>\n      <th></th>\n      <th></th>\n      <th></th>\n      <th></th>\n      <th></th>\n      <th></th>\n      <th></th>\n      <th></th>\n      <th></th>\n      <th></th>\n      <th></th>\n      <th></th>\n      <th></th>\n      <th></th>\n      <th></th>\n      <th></th>\n      <th></th>\n      <th></th>\n      <th></th>\n      <th></th>\n      <th></th>\n    </tr>\n  </thead>\n  <tbody>\n    <tr>\n      <th>P1</th>\n      <td>Persistent</td>\n      <td>Male</td>\n      <td>Caucasian</td>\n      <td>Not Hispanic</td>\n      <td>West</td>\n      <td>&gt;75</td>\n      <td>GENERAL PRACTITIONER</td>\n      <td>Others</td>\n      <td>NaN</td>\n      <td>N</td>\n      <td>...</td>\n      <td>N</td>\n      <td>N</td>\n      <td>N</td>\n      <td>N</td>\n      <td>N</td>\n      <td>N</td>\n      <td>N</td>\n      <td>N</td>\n      <td>N</td>\n      <td>0</td>\n    </tr>\n    <tr>\n      <th>P2</th>\n      <td>Non-Persistent</td>\n      <td>Male</td>\n      <td>Asian</td>\n      <td>Not Hispanic</td>\n      <td>West</td>\n      <td>55-65</td>\n      <td>GENERAL PRACTITIONER</td>\n      <td>Others</td>\n      <td>NaN</td>\n      <td>N</td>\n      <td>...</td>\n      <td>N</td>\n      <td>N</td>\n      <td>N</td>\n      <td>N</td>\n      <td>N</td>\n      <td>N</td>\n      <td>N</td>\n      <td>N</td>\n      <td>N</td>\n      <td>0</td>\n    </tr>\n    <tr>\n      <th>P3</th>\n      <td>Non-Persistent</td>\n      <td>Female</td>\n      <td>NaN</td>\n      <td>Hispanic</td>\n      <td>Midwest</td>\n      <td>65-75</td>\n      <td>GENERAL PRACTITIONER</td>\n      <td>Others</td>\n      <td>NaN</td>\n      <td>N</td>\n      <td>...</td>\n      <td>N</td>\n      <td>Y</td>\n      <td>N</td>\n      <td>N</td>\n      <td>N</td>\n      <td>N</td>\n      <td>N</td>\n      <td>N</td>\n      <td>N</td>\n      <td>2</td>\n    </tr>\n    <tr>\n      <th>P4</th>\n      <td>Non-Persistent</td>\n      <td>Female</td>\n      <td>Caucasian</td>\n      <td>Not Hispanic</td>\n      <td>Midwest</td>\n      <td>&gt;75</td>\n      <td>GENERAL PRACTITIONER</td>\n      <td>Others</td>\n      <td>NaN</td>\n      <td>N</td>\n      <td>...</td>\n      <td>N</td>\n      <td>N</td>\n      <td>N</td>\n      <td>N</td>\n      <td>N</td>\n      <td>N</td>\n      <td>N</td>\n      <td>N</td>\n      <td>N</td>\n      <td>1</td>\n    </tr>\n    <tr>\n      <th>P5</th>\n      <td>Non-Persistent</td>\n      <td>Female</td>\n      <td>Caucasian</td>\n      <td>Not Hispanic</td>\n      <td>Midwest</td>\n      <td>&gt;75</td>\n      <td>GENERAL PRACTITIONER</td>\n      <td>Others</td>\n      <td>NaN</td>\n      <td>Y</td>\n      <td>...</td>\n      <td>N</td>\n      <td>N</td>\n      <td>N</td>\n      <td>N</td>\n      <td>N</td>\n      <td>N</td>\n      <td>N</td>\n      <td>N</td>\n      <td>N</td>\n      <td>1</td>\n    </tr>\n    <tr>\n      <th>...</th>\n      <td>...</td>\n      <td>...</td>\n      <td>...</td>\n      <td>...</td>\n      <td>...</td>\n      <td>...</td>\n      <td>...</td>\n      <td>...</td>\n      <td>...</td>\n      <td>...</td>\n      <td>...</td>\n      <td>...</td>\n      <td>...</td>\n      <td>...</td>\n      <td>...</td>\n      <td>...</td>\n      <td>...</td>\n      <td>...</td>\n      <td>...</td>\n      <td>...</td>\n      <td>...</td>\n    </tr>\n    <tr>\n      <th>P3420</th>\n      <td>Persistent</td>\n      <td>Female</td>\n      <td>Caucasian</td>\n      <td>Not Hispanic</td>\n      <td>South</td>\n      <td>&gt;75</td>\n      <td>GENERAL PRACTITIONER</td>\n      <td>Others</td>\n      <td>NaN</td>\n      <td>N</td>\n      <td>...</td>\n      <td>N</td>\n      <td>N</td>\n      <td>Y</td>\n      <td>N</td>\n      <td>N</td>\n      <td>N</td>\n      <td>N</td>\n      <td>N</td>\n      <td>N</td>\n      <td>1</td>\n    </tr>\n    <tr>\n      <th>P3421</th>\n      <td>Persistent</td>\n      <td>Female</td>\n      <td>Caucasian</td>\n      <td>Not Hispanic</td>\n      <td>South</td>\n      <td>&gt;75</td>\n      <td>NaN</td>\n      <td>Others</td>\n      <td>NaN</td>\n      <td>N</td>\n      <td>...</td>\n      <td>N</td>\n      <td>N</td>\n      <td>N</td>\n      <td>N</td>\n      <td>N</td>\n      <td>N</td>\n      <td>N</td>\n      <td>N</td>\n      <td>N</td>\n      <td>0</td>\n    </tr>\n    <tr>\n      <th>P3422</th>\n      <td>Persistent</td>\n      <td>Female</td>\n      <td>Caucasian</td>\n      <td>Not Hispanic</td>\n      <td>South</td>\n      <td>&gt;75</td>\n      <td>ENDOCRINOLOGY</td>\n      <td>Specialist</td>\n      <td>Endo/Onc/Uro</td>\n      <td>N</td>\n      <td>...</td>\n      <td>N</td>\n      <td>N</td>\n      <td>Y</td>\n      <td>N</td>\n      <td>N</td>\n      <td>N</td>\n      <td>N</td>\n      <td>N</td>\n      <td>N</td>\n      <td>1</td>\n    </tr>\n    <tr>\n      <th>P3423</th>\n      <td>Non-Persistent</td>\n      <td>Female</td>\n      <td>Caucasian</td>\n      <td>Not Hispanic</td>\n      <td>South</td>\n      <td>55-65</td>\n      <td>NaN</td>\n      <td>Others</td>\n      <td>NaN</td>\n      <td>N</td>\n      <td>...</td>\n      <td>N</td>\n      <td>N</td>\n      <td>N</td>\n      <td>N</td>\n      <td>N</td>\n      <td>N</td>\n      <td>N</td>\n      <td>N</td>\n      <td>N</td>\n      <td>0</td>\n    </tr>\n    <tr>\n      <th>P3424</th>\n      <td>Non-Persistent</td>\n      <td>Female</td>\n      <td>Caucasian</td>\n      <td>Not Hispanic</td>\n      <td>South</td>\n      <td>65-75</td>\n      <td>NaN</td>\n      <td>Others</td>\n      <td>NaN</td>\n      <td>Y</td>\n      <td>...</td>\n      <td>N</td>\n      <td>N</td>\n      <td>Y</td>\n      <td>N</td>\n      <td>N</td>\n      <td>N</td>\n      <td>N</td>\n      <td>N</td>\n      <td>N</td>\n      <td>1</td>\n    </tr>\n  </tbody>\n</table>\n<p>3424 rows × 68 columns</p>\n</div>"
     },
     "execution_count": 2,
     "metadata": {},
     "output_type": "execute_result"
    }
   ],
   "source": [
    "df = pd.read_excel(\"../data/Healthcare_dataset.xlsx\", sheet_name=\"Dataset\", index_col=\"Ptid\", na_values=[\"Unknown\", \"Other/Unknown\", \"OB/GYN/Others/PCP/Unknown\"])\n",
    "df"
   ],
   "metadata": {
    "collapsed": false
   }
  },
  {
   "cell_type": "markdown",
   "source": [
    "We replace NaN values with mode."
   ],
   "metadata": {
    "collapsed": false
   }
  },
  {
   "cell_type": "code",
   "execution_count": 3,
   "outputs": [
    {
     "data": {
      "text/plain": "      Persistency_Flag  Gender       Race     Ethnicity   Region Age_Bucket  \\\nPtid                                                                          \nP1          Persistent    Male  Caucasian  Not Hispanic     West        >75   \nP2      Non-Persistent    Male      Asian  Not Hispanic     West      55-65   \nP3      Non-Persistent  Female        NaN      Hispanic  Midwest      65-75   \nP4      Non-Persistent  Female  Caucasian  Not Hispanic  Midwest        >75   \nP5      Non-Persistent  Female  Caucasian  Not Hispanic  Midwest        >75   \n...                ...     ...        ...           ...      ...        ...   \nP3420       Persistent  Female  Caucasian  Not Hispanic    South        >75   \nP3421       Persistent  Female  Caucasian  Not Hispanic    South        >75   \nP3422       Persistent  Female  Caucasian  Not Hispanic    South        >75   \nP3423   Non-Persistent  Female  Caucasian  Not Hispanic    South      55-65   \nP3424   Non-Persistent  Female  Caucasian  Not Hispanic    South      65-75   \n\n             Ntm_Speciality Ntm_Specialist_Flag Ntm_Speciality_Bucket  \\\nPtid                                                                    \nP1     GENERAL PRACTITIONER              Others                   NaN   \nP2     GENERAL PRACTITIONER              Others                   NaN   \nP3     GENERAL PRACTITIONER              Others                   NaN   \nP4     GENERAL PRACTITIONER              Others                   NaN   \nP5     GENERAL PRACTITIONER              Others                   NaN   \n...                     ...                 ...                   ...   \nP3420  GENERAL PRACTITIONER              Others                   NaN   \nP3421                   NaN              Others                   NaN   \nP3422         ENDOCRINOLOGY          Specialist          Endo/Onc/Uro   \nP3423                   NaN              Others                   NaN   \nP3424                   NaN              Others                   NaN   \n\n      Gluco_Record_Prior_Ntm  ... Risk_Family_History_Of_Osteoporosis  \\\nPtid                          ...                                       \nP1                         N  ...                                   N   \nP2                         N  ...                                   N   \nP3                         N  ...                                   N   \nP4                         N  ...                                   N   \nP5                         Y  ...                                   N   \n...                      ...  ...                                 ...   \nP3420                      N  ...                                   N   \nP3421                      N  ...                                   N   \nP3422                      N  ...                                   N   \nP3423                      N  ...                                   N   \nP3424                      Y  ...                                   N   \n\n       Risk_Low_Calcium_Intake Risk_Vitamin_D_Insufficiency  \\\nPtid                                                          \nP1                           N                            N   \nP2                           N                            N   \nP3                           Y                            N   \nP4                           N                            N   \nP5                           N                            N   \n...                        ...                          ...   \nP3420                        N                            Y   \nP3421                        N                            N   \nP3422                        N                            Y   \nP3423                        N                            N   \nP3424                        N                            Y   \n\n      Risk_Poor_Health_Frailty Risk_Excessive_Thinness  \\\nPtid                                                     \nP1                           N                       N   \nP2                           N                       N   \nP3                           N                       N   \nP4                           N                       N   \nP5                           N                       N   \n...                        ...                     ...   \nP3420                        N                       N   \nP3421                        N                       N   \nP3422                        N                       N   \nP3423                        N                       N   \nP3424                        N                       N   \n\n      Risk_Hysterectomy_Oophorectomy Risk_Estrogen_Deficiency  \\\nPtid                                                            \nP1                                 N                        N   \nP2                                 N                        N   \nP3                                 N                        N   \nP4                                 N                        N   \nP5                                 N                        N   \n...                              ...                      ...   \nP3420                              N                        N   \nP3421                              N                        N   \nP3422                              N                        N   \nP3423                              N                        N   \nP3424                              N                        N   \n\n      Risk_Immobilization Risk_Recurring_Falls Count_Of_Risks  \nPtid                                                           \nP1                      N                    N              0  \nP2                      N                    N              0  \nP3                      N                    N              2  \nP4                      N                    N              1  \nP5                      N                    N              1  \n...                   ...                  ...            ...  \nP3420                   N                    N              1  \nP3421                   N                    N              0  \nP3422                   N                    N              1  \nP3423                   N                    N              0  \nP3424                   N                    N              1  \n\n[3424 rows x 68 columns]",
      "text/html": "<div>\n<style scoped>\n    .dataframe tbody tr th:only-of-type {\n        vertical-align: middle;\n    }\n\n    .dataframe tbody tr th {\n        vertical-align: top;\n    }\n\n    .dataframe thead th {\n        text-align: right;\n    }\n</style>\n<table border=\"1\" class=\"dataframe\">\n  <thead>\n    <tr style=\"text-align: right;\">\n      <th></th>\n      <th>Persistency_Flag</th>\n      <th>Gender</th>\n      <th>Race</th>\n      <th>Ethnicity</th>\n      <th>Region</th>\n      <th>Age_Bucket</th>\n      <th>Ntm_Speciality</th>\n      <th>Ntm_Specialist_Flag</th>\n      <th>Ntm_Speciality_Bucket</th>\n      <th>Gluco_Record_Prior_Ntm</th>\n      <th>...</th>\n      <th>Risk_Family_History_Of_Osteoporosis</th>\n      <th>Risk_Low_Calcium_Intake</th>\n      <th>Risk_Vitamin_D_Insufficiency</th>\n      <th>Risk_Poor_Health_Frailty</th>\n      <th>Risk_Excessive_Thinness</th>\n      <th>Risk_Hysterectomy_Oophorectomy</th>\n      <th>Risk_Estrogen_Deficiency</th>\n      <th>Risk_Immobilization</th>\n      <th>Risk_Recurring_Falls</th>\n      <th>Count_Of_Risks</th>\n    </tr>\n    <tr>\n      <th>Ptid</th>\n      <th></th>\n      <th></th>\n      <th></th>\n      <th></th>\n      <th></th>\n      <th></th>\n      <th></th>\n      <th></th>\n      <th></th>\n      <th></th>\n      <th></th>\n      <th></th>\n      <th></th>\n      <th></th>\n      <th></th>\n      <th></th>\n      <th></th>\n      <th></th>\n      <th></th>\n      <th></th>\n      <th></th>\n    </tr>\n  </thead>\n  <tbody>\n    <tr>\n      <th>P1</th>\n      <td>Persistent</td>\n      <td>Male</td>\n      <td>Caucasian</td>\n      <td>Not Hispanic</td>\n      <td>West</td>\n      <td>&gt;75</td>\n      <td>GENERAL PRACTITIONER</td>\n      <td>Others</td>\n      <td>NaN</td>\n      <td>N</td>\n      <td>...</td>\n      <td>N</td>\n      <td>N</td>\n      <td>N</td>\n      <td>N</td>\n      <td>N</td>\n      <td>N</td>\n      <td>N</td>\n      <td>N</td>\n      <td>N</td>\n      <td>0</td>\n    </tr>\n    <tr>\n      <th>P2</th>\n      <td>Non-Persistent</td>\n      <td>Male</td>\n      <td>Asian</td>\n      <td>Not Hispanic</td>\n      <td>West</td>\n      <td>55-65</td>\n      <td>GENERAL PRACTITIONER</td>\n      <td>Others</td>\n      <td>NaN</td>\n      <td>N</td>\n      <td>...</td>\n      <td>N</td>\n      <td>N</td>\n      <td>N</td>\n      <td>N</td>\n      <td>N</td>\n      <td>N</td>\n      <td>N</td>\n      <td>N</td>\n      <td>N</td>\n      <td>0</td>\n    </tr>\n    <tr>\n      <th>P3</th>\n      <td>Non-Persistent</td>\n      <td>Female</td>\n      <td>NaN</td>\n      <td>Hispanic</td>\n      <td>Midwest</td>\n      <td>65-75</td>\n      <td>GENERAL PRACTITIONER</td>\n      <td>Others</td>\n      <td>NaN</td>\n      <td>N</td>\n      <td>...</td>\n      <td>N</td>\n      <td>Y</td>\n      <td>N</td>\n      <td>N</td>\n      <td>N</td>\n      <td>N</td>\n      <td>N</td>\n      <td>N</td>\n      <td>N</td>\n      <td>2</td>\n    </tr>\n    <tr>\n      <th>P4</th>\n      <td>Non-Persistent</td>\n      <td>Female</td>\n      <td>Caucasian</td>\n      <td>Not Hispanic</td>\n      <td>Midwest</td>\n      <td>&gt;75</td>\n      <td>GENERAL PRACTITIONER</td>\n      <td>Others</td>\n      <td>NaN</td>\n      <td>N</td>\n      <td>...</td>\n      <td>N</td>\n      <td>N</td>\n      <td>N</td>\n      <td>N</td>\n      <td>N</td>\n      <td>N</td>\n      <td>N</td>\n      <td>N</td>\n      <td>N</td>\n      <td>1</td>\n    </tr>\n    <tr>\n      <th>P5</th>\n      <td>Non-Persistent</td>\n      <td>Female</td>\n      <td>Caucasian</td>\n      <td>Not Hispanic</td>\n      <td>Midwest</td>\n      <td>&gt;75</td>\n      <td>GENERAL PRACTITIONER</td>\n      <td>Others</td>\n      <td>NaN</td>\n      <td>Y</td>\n      <td>...</td>\n      <td>N</td>\n      <td>N</td>\n      <td>N</td>\n      <td>N</td>\n      <td>N</td>\n      <td>N</td>\n      <td>N</td>\n      <td>N</td>\n      <td>N</td>\n      <td>1</td>\n    </tr>\n    <tr>\n      <th>...</th>\n      <td>...</td>\n      <td>...</td>\n      <td>...</td>\n      <td>...</td>\n      <td>...</td>\n      <td>...</td>\n      <td>...</td>\n      <td>...</td>\n      <td>...</td>\n      <td>...</td>\n      <td>...</td>\n      <td>...</td>\n      <td>...</td>\n      <td>...</td>\n      <td>...</td>\n      <td>...</td>\n      <td>...</td>\n      <td>...</td>\n      <td>...</td>\n      <td>...</td>\n      <td>...</td>\n    </tr>\n    <tr>\n      <th>P3420</th>\n      <td>Persistent</td>\n      <td>Female</td>\n      <td>Caucasian</td>\n      <td>Not Hispanic</td>\n      <td>South</td>\n      <td>&gt;75</td>\n      <td>GENERAL PRACTITIONER</td>\n      <td>Others</td>\n      <td>NaN</td>\n      <td>N</td>\n      <td>...</td>\n      <td>N</td>\n      <td>N</td>\n      <td>Y</td>\n      <td>N</td>\n      <td>N</td>\n      <td>N</td>\n      <td>N</td>\n      <td>N</td>\n      <td>N</td>\n      <td>1</td>\n    </tr>\n    <tr>\n      <th>P3421</th>\n      <td>Persistent</td>\n      <td>Female</td>\n      <td>Caucasian</td>\n      <td>Not Hispanic</td>\n      <td>South</td>\n      <td>&gt;75</td>\n      <td>NaN</td>\n      <td>Others</td>\n      <td>NaN</td>\n      <td>N</td>\n      <td>...</td>\n      <td>N</td>\n      <td>N</td>\n      <td>N</td>\n      <td>N</td>\n      <td>N</td>\n      <td>N</td>\n      <td>N</td>\n      <td>N</td>\n      <td>N</td>\n      <td>0</td>\n    </tr>\n    <tr>\n      <th>P3422</th>\n      <td>Persistent</td>\n      <td>Female</td>\n      <td>Caucasian</td>\n      <td>Not Hispanic</td>\n      <td>South</td>\n      <td>&gt;75</td>\n      <td>ENDOCRINOLOGY</td>\n      <td>Specialist</td>\n      <td>Endo/Onc/Uro</td>\n      <td>N</td>\n      <td>...</td>\n      <td>N</td>\n      <td>N</td>\n      <td>Y</td>\n      <td>N</td>\n      <td>N</td>\n      <td>N</td>\n      <td>N</td>\n      <td>N</td>\n      <td>N</td>\n      <td>1</td>\n    </tr>\n    <tr>\n      <th>P3423</th>\n      <td>Non-Persistent</td>\n      <td>Female</td>\n      <td>Caucasian</td>\n      <td>Not Hispanic</td>\n      <td>South</td>\n      <td>55-65</td>\n      <td>NaN</td>\n      <td>Others</td>\n      <td>NaN</td>\n      <td>N</td>\n      <td>...</td>\n      <td>N</td>\n      <td>N</td>\n      <td>N</td>\n      <td>N</td>\n      <td>N</td>\n      <td>N</td>\n      <td>N</td>\n      <td>N</td>\n      <td>N</td>\n      <td>0</td>\n    </tr>\n    <tr>\n      <th>P3424</th>\n      <td>Non-Persistent</td>\n      <td>Female</td>\n      <td>Caucasian</td>\n      <td>Not Hispanic</td>\n      <td>South</td>\n      <td>65-75</td>\n      <td>NaN</td>\n      <td>Others</td>\n      <td>NaN</td>\n      <td>Y</td>\n      <td>...</td>\n      <td>N</td>\n      <td>N</td>\n      <td>Y</td>\n      <td>N</td>\n      <td>N</td>\n      <td>N</td>\n      <td>N</td>\n      <td>N</td>\n      <td>N</td>\n      <td>1</td>\n    </tr>\n  </tbody>\n</table>\n<p>3424 rows × 68 columns</p>\n</div>"
     },
     "execution_count": 3,
     "metadata": {},
     "output_type": "execute_result"
    }
   ],
   "source": [
    "df.fillna(df.mode())"
   ],
   "metadata": {
    "collapsed": false
   }
  },
  {
   "cell_type": "markdown",
   "source": [
    "##### outliers"
   ],
   "metadata": {
    "collapsed": false
   }
  },
  {
   "cell_type": "markdown",
   "source": [
    "We replace outliers (z-score > 3) in numeric columns with the corresponding median."
   ],
   "metadata": {
    "collapsed": false
   }
  },
  {
   "cell_type": "code",
   "execution_count": 4,
   "outputs": [
    {
     "name": "stderr",
     "output_type": "stream",
     "text": [
      "/var/folders/55/8329xk652qqcmwyx7rj48p6m0000gn/T/ipykernel_47095/4060882262.py:6: SettingWithCopyWarning: \n",
      "A value is trying to be set on a copy of a slice from a DataFrame\n",
      "\n",
      "See the caveats in the documentation: https://pandas.pydata.org/pandas-docs/stable/user_guide/indexing.html#returning-a-view-versus-a-copy\n",
      "  Dexa_Freq_During_Rx[(np.abs(stats.zscore(Dexa_Freq_During_Rx)) > 3)] = Dexa_Freq_During_Rx.median()\n",
      "/var/folders/55/8329xk652qqcmwyx7rj48p6m0000gn/T/ipykernel_47095/4060882262.py:7: SettingWithCopyWarning: \n",
      "A value is trying to be set on a copy of a slice from a DataFrame\n",
      "\n",
      "See the caveats in the documentation: https://pandas.pydata.org/pandas-docs/stable/user_guide/indexing.html#returning-a-view-versus-a-copy\n",
      "  Count_Of_Risks[(np.abs(stats.zscore(Count_Of_Risks)) > 3)] = Count_Of_Risks.median()\n"
     ]
    }
   ],
   "source": [
    "from scipy import stats\n",
    "\n",
    "Dexa_Freq_During_Rx = df.Dexa_Freq_During_Rx\n",
    "Count_Of_Risks = df.Count_Of_Risks\n",
    "\n",
    "Dexa_Freq_During_Rx[(np.abs(stats.zscore(Dexa_Freq_During_Rx)) > 3)] = Dexa_Freq_During_Rx.median()\n",
    "Count_Of_Risks[(np.abs(stats.zscore(Count_Of_Risks)) > 3)] = Count_Of_Risks.median()"
   ],
   "metadata": {
    "collapsed": false
   }
  }
 ],
 "metadata": {
  "kernelspec": {
   "display_name": "Python 3",
   "language": "python",
   "name": "python3"
  },
  "language_info": {
   "codemirror_mode": {
    "name": "ipython",
    "version": 2
   },
   "file_extension": ".py",
   "mimetype": "text/x-python",
   "name": "python",
   "nbconvert_exporter": "python",
   "pygments_lexer": "ipython2",
   "version": "2.7.6"
  }
 },
 "nbformat": 4,
 "nbformat_minor": 0
}
